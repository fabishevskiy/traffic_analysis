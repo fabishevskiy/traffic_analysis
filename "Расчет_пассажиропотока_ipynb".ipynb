{
  "nbformat": 4,
  "nbformat_minor": 0,
  "metadata": {
    "colab": {
      "provenance": [],
      "toc_visible": true,
      "authorship_tag": "ABX9TyNubS6Wuq5vTSyzTRXaKq3j",
      "include_colab_link": true
    },
    "kernelspec": {
      "name": "python3",
      "display_name": "Python 3"
    },
    "language_info": {
      "name": "python"
    }
  },
  "cells": [
    {
      "cell_type": "markdown",
      "metadata": {
        "id": "view-in-github",
        "colab_type": "text"
      },
      "source": [
        "<a href=\"https://colab.research.google.com/github/fabishevskiy/traffic_analysis/blob/main/%22%D0%A0%D0%B0%D1%81%D1%87%D0%B5%D1%82_%D0%BF%D0%B0%D1%81%D1%81%D0%B0%D0%B6%D0%B8%D1%80%D0%BE%D0%BF%D0%BE%D1%82%D0%BE%D0%BA%D0%B0_ipynb%22.ipynb\" target=\"_parent\"><img src=\"https://colab.research.google.com/assets/colab-badge.svg\" alt=\"Open In Colab\"/></a>"
      ]
    },
    {
      "cell_type": "markdown",
      "source": [
        "# Описание проекта"
      ],
      "metadata": {
        "id": "xp8B9slmWfNt"
      }
    },
    {
      "cell_type": "markdown",
      "source": [
        "**Расчет пассажиропотока для подбора количества, параметров и размеров лифтов**"
      ],
      "metadata": {
        "id": "tp5qWZxI0qnJ"
      }
    },
    {
      "cell_type": "markdown",
      "source": [
        "Настоящий анализ основан на расчетном методе в соответствие с ГОСТ 34758-2021 ЛИФТЫ. Определение числа, параметров и размеров лифтов для зданий различного назначения\n"
      ],
      "metadata": {
        "id": "ZWMDiNthI6ED"
      }
    },
    {
      "cell_type": "markdown",
      "source": [
        "Критерии для расчетного метода анализа\n",
        "\n",
        "Расчетный метод анализа основан на условиях пикового пассажиропотока вверх (входящий пассажиропоток). При этом основной посадочный этаж находится внизу здания, все верхние этажи заселены равномерно (п.5.4.1, ГОСТ 34758-2021).\n",
        "\n",
        "Критериями для расчетного метода анализа являются:\n",
        "\n",
        "а) расчетный пассажиропоток;  \n",
        "б) нормативный интервал движения лифтов;  \n",
        "в) нормативное время движения лифта на всю высоту подъема.\n",
        "\n",
        "Рекомендуемые значения вышеуказанных критериев приведены в таблицах 1 и 4, ГОСТ 34758-2021.\n",
        "\n"
      ],
      "metadata": {
        "id": "3efYiLQxJ0iG"
      }
    },
    {
      "cell_type": "markdown",
      "source": [
        "# Подготовка к расчетам"
      ],
      "metadata": {
        "id": "anOy52c0Wqc4"
      }
    },
    {
      "cell_type": "code",
      "source": [
        "# импорт библиотек\n",
        "import math\n",
        "\n",
        "# зададим константные значения для расчета\n",
        "T_5 = 5*60 #время для расчета 5 минутного интервала = 300 сек\n",
        "LIFT_ACCEL = 1.0 # ускорение/земедление лифта"
      ],
      "metadata": {
        "id": "fXVMNY7HPm1c"
      },
      "execution_count": null,
      "outputs": []
    },
    {
      "cell_type": "markdown",
      "source": [
        "## Исходные данные"
      ],
      "metadata": {
        "id": "JyH7C2LKKTxM"
      }
    },
    {
      "cell_type": "markdown",
      "source": [
        "Выведем информацию по зданию:\n",
        "1. Тип здания\n",
        "2. Нормативный интервал движения\n",
        "3. Расчетный пассажиропоток\n",
        "4. Общая заселенность здания"
      ],
      "metadata": {
        "id": "rtuCQ9AM07UZ"
      }
    },
    {
      "cell_type": "code",
      "source": [
        "# Зададим рекомендуемые критерии для зданий в зависимости от назначения согласно таблице 1, ГОСТ 34758-2021\n",
        "building_types = ['Офис', 'Гостиница', 'Жилое здание']\n",
        "\n",
        "# нормативный интервал движения лифтов / Required uppeak interval\n",
        "t_int_req = {\n",
        "    'Офис': 30,\n",
        "    'Гостиница': 40,\n",
        "    'Жилое здание': 60,\n",
        "}\n",
        "# Расчетный пассажиропоток / Required uppeak handling capacity\n",
        "\n",
        "C_h_req = {\n",
        "    'Офис': 12,\n",
        "    'Гостиница': 12,\n",
        "    'Жилое здание': 6\n",
        "}\n",
        "t_H_min = 20 #сек. - минимальное рекомендуемое время движения лифта на всю высоты подъема\n",
        "t_H_max = 30 #сек. - максимальное рекомендуемое время движения лифта на всю высоты подъема"
      ],
      "metadata": {
        "id": "gAcIZ2ePIpQ3"
      },
      "execution_count": null,
      "outputs": []
    },
    {
      "cell_type": "markdown",
      "source": [
        "Выведем характеристики по зданию:\n"
      ],
      "metadata": {
        "id": "lyTGZjPr91YJ"
      }
    },
    {
      "cell_type": "code",
      "source": [
        "building_type = building_types[0]\n",
        "\n",
        "# интервал движения лифтов и пассажиропоток для выбранного типа здания\n",
        "t_int = t_int_req[building_type] # требуемый интервал движения\n",
        "A_capacity = C_h_req[building_type] # пассажиропоток\n",
        "\n",
        "print(f'Для типа здания {building_type}: \\n- нормативный интервал: <= {t_int}, с.; \\n- расчетный пассажиропоток: >= {A_capacity}% населения здания за 5 мин')"
      ],
      "metadata": {
        "id": "4Z6KwdE4Iqnq",
        "colab": {
          "base_uri": "https://localhost:8080/"
        },
        "outputId": "5cd891bd-c9e2-45ae-e887-35e8b8c07d11"
      },
      "execution_count": null,
      "outputs": [
        {
          "output_type": "stream",
          "name": "stdout",
          "text": [
            "Для типа здания Офис: \n",
            "- нормативный интервал: <= 30, с.; \n",
            "- расчетный пассажиропоток: >= 12% населения здания за 5 мин\n"
          ]
        }
      ]
    },
    {
      "cell_type": "code",
      "source": [
        "# исходные данных по исследуемому зданию\n",
        "U = 1092 # общая заселенность здания / Population per building rise\n",
        "D = 52 # высота подъема лифта / travel distance to highest severed floor\n",
        "d_f = 4.0 # расстояние между этажами, м; / average interfloor height\n",
        "N = 13 # количество обслуживаемых этажей выше основного посадочного / number of landings served above entrance floor\n",
        "\n",
        "\n",
        "print(f'Общая заселенность здания {U} человек, \\nВысота подъема лифта {D} метров \\nРасстояние между этажами {d_f} метров, \\nКоличество обслуживаемых этажей выше основной этажной площадки - {N} этажей')"
      ],
      "metadata": {
        "id": "PVWUomqzIr9I",
        "colab": {
          "base_uri": "https://localhost:8080/"
        },
        "outputId": "5e340ecb-2140-46f6-a604-3a1c5b3bee8c"
      },
      "execution_count": null,
      "outputs": [
        {
          "output_type": "stream",
          "name": "stdout",
          "text": [
            "Общая заселенность здания 1092 человек, \n",
            "Высота подъема лифта 52 метров \n",
            "Расстояние между этажами 4.0 метров, \n",
            "Количество обслуживаемых этажей выше основной этажной площадки - 13 этажей\n"
          ]
        }
      ]
    },
    {
      "cell_type": "markdown",
      "source": [
        "Определим количество людей, которых необходимо перевезти за 5 мин."
      ],
      "metadata": {
        "id": "zm_iZTzhuyj9"
      }
    },
    {
      "cell_type": "code",
      "source": [
        "\n",
        "C_h = U * A_capacity/100 #провозная способность лифтов за 5 мин, чел.;\n",
        "print(f'При общей заселенности здания {U} чел., за 5 минут необходимо перевезти {U} x {A_capacity} = {C_h} человек')"
      ],
      "metadata": {
        "id": "5jnXCZyfIsHo",
        "colab": {
          "base_uri": "https://localhost:8080/"
        },
        "outputId": "db1cf732-42d9-4d53-e7c8-b45767da32c7"
      },
      "execution_count": null,
      "outputs": [
        {
          "output_type": "stream",
          "name": "stdout",
          "text": [
            "При общей заселенности здания 1092 чел., за 5 минут необходимо перевезти 1092 x 12 = 131.04 человек\n"
          ]
        }
      ]
    },
    {
      "cell_type": "markdown",
      "source": [
        "Определим количество отправлений лифтов с основного посадочного этажа:  \n",
        "\n",
        "Разделим 5-минутный интервал (в секундах) на рекомендуемый интервал движения лифтов."
      ],
      "metadata": {
        "id": "7iF5GF3Ft9ip"
      }
    },
    {
      "cell_type": "code",
      "source": [
        "# расчет количества отправлений за 5 минут\n",
        "round_trips_quantity = math.ceil(T_5 / t_int)\n",
        "print(f'Для обеспечения требуемого интервала {t_int} с число отправлений должно быть не менее {round_trips_quantity}')"
      ],
      "metadata": {
        "id": "X9z9Nqfdtsy_",
        "colab": {
          "base_uri": "https://localhost:8080/"
        },
        "outputId": "37ffad13-2ba2-4185-c1c5-657a6420fa2b"
      },
      "execution_count": null,
      "outputs": [
        {
          "output_type": "stream",
          "name": "stdout",
          "text": [
            "Для обеспечения требуемого интервала 30 с число отправлений должно быть не менее 10\n"
          ]
        }
      ]
    },
    {
      "cell_type": "markdown",
      "source": [
        "Высчислим среднюю загрузку кабины, для чего разделим количество человек, перевозимых за 5 минут, на количество рейсов."
      ],
      "metadata": {
        "id": "farKT1K_V-yP"
      }
    },
    {
      "cell_type": "code",
      "source": [
        "P_calc = C_h / round_trips_quantity # Расчетная средняя загрузка кабины\n",
        "print(f'Средняя загрузка кабины лифта {P_calc:.2f} человек')"
      ],
      "metadata": {
        "colab": {
          "base_uri": "https://localhost:8080/"
        },
        "id": "JxR2CIUyV9r6",
        "outputId": "d6115708-47f9-4d1a-9f13-d80dddd8ae84"
      },
      "execution_count": null,
      "outputs": [
        {
          "output_type": "stream",
          "name": "stdout",
          "text": [
            "Средняя загрузка кабины лифта 13.10 человек\n"
          ]
        }
      ]
    },
    {
      "cell_type": "markdown",
      "source": [
        "Определим скорость лифтов"
      ],
      "metadata": {
        "id": "XRjjgcqYSViE"
      }
    },
    {
      "cell_type": "code",
      "source": [
        "v_p_max = D / t_H_min\n",
        "v_p_min = D / t_H_max\n",
        "print(f'Скорость лифтов должна быть от {v_p_min:.1f}  м/с до {v_p_max:.1f} м/с')"
      ],
      "metadata": {
        "colab": {
          "base_uri": "https://localhost:8080/"
        },
        "id": "4b9P1CM3SeV9",
        "outputId": "90c9088d-3208-43a9-e88d-25f15482cdb8"
      },
      "execution_count": null,
      "outputs": [
        {
          "output_type": "stream",
          "name": "stdout",
          "text": [
            "Скорость лифтов должна быть от 1.7  м/с до 2.6 м/с\n"
          ]
        }
      ]
    },
    {
      "cell_type": "code",
      "source": [
        "v_n = 2.5 #м/с - номинальная скорость лифтов\n",
        "print(f'Примем номинальную скорость лифтов равной - {v_n} с')"
      ],
      "metadata": {
        "colab": {
          "base_uri": "https://localhost:8080/"
        },
        "id": "xE188k5ET19j",
        "outputId": "1c9753d8-c126-4969-c811-91ed3590688c"
      },
      "execution_count": null,
      "outputs": [
        {
          "output_type": "stream",
          "name": "stdout",
          "text": [
            "Примем номинальную скорость лифтов равной - 2.5 с\n"
          ]
        }
      ]
    },
    {
      "cell_type": "code",
      "source": [
        "t_D = D / v_n # - время подъема лифта на всю высоту\n",
        "print(f'Время подъема лифта на всю высоту - {t_D} с')"
      ],
      "metadata": {
        "colab": {
          "base_uri": "https://localhost:8080/"
        },
        "id": "tH_4WUA1U6X8",
        "outputId": "e2480c8d-2040-451b-c766-792a786e5b7c"
      },
      "execution_count": null,
      "outputs": [
        {
          "output_type": "stream",
          "name": "stdout",
          "text": [
            "Время подъема лифта на всю высоту - 20.8 с\n"
          ]
        }
      ]
    },
    {
      "cell_type": "markdown",
      "source": [
        "Рассчитаем время, затрачиваемое на остановку (формула (9) ГОСТ 34758-2021 / формула (14) ISO 8100-32-2020):  \n",
        "$t_{s} = t_{c} + t_{sd} + t_{f}(1) - t_{pre} + t_{0} - t_{v}$"
      ],
      "metadata": {
        "id": "9KebzwpXWz7o"
      }
    },
    {
      "cell_type": "code",
      "source": [
        "t_c = 2.4 # время закрывания двери, с;  / closing time\n",
        "t_o = 2.0 # время открывания двери, с; / opening time\n",
        "t_sd = 0.6 # время задержки начала движения, с; / start delay time\n",
        "t_f1 = 5.1 # время движения лифта между соседними этажами с учетом стадии разгона и торможения; / flight time\n",
        "t_pre = 0 # время предварительного открывания двери, с; / pre-opening time\n",
        "t_cd = 2.0 # время задержки закрывания двери, с; / closing delay time\n",
        "t_v = d_f / v_n # время движения лифта между соседними этажами на номинальной скорости, с; / travel berween two floor at rated speed (s)\n",
        "\n",
        "t_p = 0.9 # время на вход пассажира в лифт - из табл.3 ГОСТ 34758-2021\n",
        "\n",
        "t_s = t_c + t_sd + t_f1 -t_pre + t_o + t_cd - t_v # время затрачиваемое на остановку\n",
        "print(f'Время, затрачиваемое на остановку - {t_s} с')"
      ],
      "metadata": {
        "colab": {
          "base_uri": "https://localhost:8080/"
        },
        "id": "W2frPQSBYA1o",
        "outputId": "68a16954-9489-4596-b80d-89e2866d1088"
      },
      "execution_count": null,
      "outputs": [
        {
          "output_type": "stream",
          "name": "stdout",
          "text": [
            "Время, затрачиваемое на остановку - 10.5 с\n"
          ]
        }
      ]
    },
    {
      "cell_type": "markdown",
      "source": [
        "Определим средний номер этажа реверса при круговом рейсе :  \n",
        "$ H = N - \\sum_{i=1}^{N-1}{(\\frac{i}{N})^{P_{calc}}} $"
      ],
      "metadata": {
        "id": "HULirNVtiKuy"
      }
    },
    {
      "cell_type": "code",
      "source": [
        "# определим формулу для расчета этажа реверса\n",
        "def av_highest_reversal_floor(N, P_calc):\n",
        "    sum = 0\n",
        "    for i in range(1, N):\n",
        "        sum += (i/N)**P_calc\n",
        "    return N - sum # Номер этажа реверса при круговом рейсе"
      ],
      "metadata": {
        "id": "2UJrRB86vJ__"
      },
      "execution_count": null,
      "outputs": []
    },
    {
      "cell_type": "code",
      "source": [
        "# определим этажа реверса\n",
        "h_rev = av_highest_reversal_floor(N, P_calc)\n",
        "print(f'Средний номер этажа реверса - {h_rev:.2f} ')"
      ],
      "metadata": {
        "colab": {
          "base_uri": "https://localhost:8080/"
        },
        "id": "p1hlpXwZlLwW",
        "outputId": "970f8ae8-77f3-4873-d498-34271b865f59"
      },
      "execution_count": null,
      "outputs": [
        {
          "output_type": "stream",
          "name": "stdout",
          "text": [
            "Средний номер этажа реверса - 12.50 \n"
          ]
        }
      ]
    },
    {
      "cell_type": "markdown",
      "source": [
        "Определим вероятное число остановок при равномерной заселенности этажей :  \n",
        "$ S = N[1-(1-\\frac{1}{N})^{P_{calc}}] $"
      ],
      "metadata": {
        "id": "bRz94jzwjnAG"
      }
    },
    {
      "cell_type": "code",
      "source": [
        "S = N * (1 - (1 - 1 / N)**P_calc)\n",
        "print(f'Вероятное число остановок - {S:.2f} ')"
      ],
      "metadata": {
        "id": "esLHGiYnttH0",
        "colab": {
          "base_uri": "https://localhost:8080/"
        },
        "outputId": "8ecb9bd3-fa7f-4c7a-be70-fc44b0833f4a"
      },
      "execution_count": null,
      "outputs": [
        {
          "output_type": "stream",
          "name": "stdout",
          "text": [
            "Вероятное число остановок - 8.45 \n"
          ]
        }
      ]
    },
    {
      "cell_type": "markdown",
      "source": [
        "Время кругового рейса рассчитывают по формуле (7):  \n",
        "$ t_{rt} = 2 \\times H \\times t_{v} + (S+1) \\times t_{s} + 2 \\times P_{calc} \\times t_{p}$"
      ],
      "metadata": {
        "id": "7hYWoNUs0kwx"
      }
    },
    {
      "cell_type": "code",
      "source": [
        "t_rt = 2*h_rev*t_v + (S+1)*t_s + 2*P_calc*t_p\n",
        "print(f'Время кругового рейса - {t_rt:.2f} ')"
      ],
      "metadata": {
        "id": "L_iRz8x506f3",
        "colab": {
          "base_uri": "https://localhost:8080/"
        },
        "outputId": "b7476831-9a36-4d4b-b765-927497a286fb"
      },
      "execution_count": null,
      "outputs": [
        {
          "output_type": "stream",
          "name": "stdout",
          "text": [
            "Время кругового рейса - 162.75 \n"
          ]
        }
      ]
    },
    {
      "cell_type": "markdown",
      "source": [
        "Выбор количества лифтов"
      ],
      "metadata": {
        "id": "D8yTRQXBo9nV"
      }
    },
    {
      "cell_type": "markdown",
      "source": [
        "Для определения количества лифтов поделим время кругового рейса на требуемый интервал и округлим получившееся значение до целого вверх"
      ],
      "metadata": {
        "id": "hgk46G1NpDaO"
      }
    },
    {
      "cell_type": "code",
      "source": [
        "L = math.ceil(t_rt / t_int)\n",
        "print(f'Необходимое минимальное количество лифтов - {L} ')"
      ],
      "metadata": {
        "colab": {
          "base_uri": "https://localhost:8080/"
        },
        "id": "R_qmMZ_6pMxj",
        "outputId": "d63dca45-5158-4ddb-d6f7-39f17602e067"
      },
      "execution_count": null,
      "outputs": [
        {
          "output_type": "stream",
          "name": "stdout",
          "text": [
            "Необходимое минимальное количество лифтов - 6 \n"
          ]
        }
      ]
    },
    {
      "cell_type": "markdown",
      "source": [
        "Определим интервал движения  для данного количества лифтов:  \n",
        "$ t_{int} = t_{rt} / L $"
      ],
      "metadata": {
        "id": "bOyLkw3oqNHr"
      }
    },
    {
      "cell_type": "code",
      "source": [
        "t_int = t_rt / L\n",
        "print(f'Интервал движения лифтов - {t_int:.2f} с')"
      ],
      "metadata": {
        "colab": {
          "base_uri": "https://localhost:8080/"
        },
        "id": "eJGHMHCEqMCJ",
        "outputId": "f9693c3c-ed52-4047-b4ac-7a8aae4c9a7e"
      },
      "execution_count": null,
      "outputs": [
        {
          "output_type": "stream",
          "name": "stdout",
          "text": [
            "Интервал движения лифтов - 27.13 с\n"
          ]
        }
      ]
    },
    {
      "cell_type": "markdown",
      "source": [
        "Определим количество пассажиров, перевозимых за 5 минут:"
      ],
      "metadata": {
        "id": "jOjvGNUarQMM"
      }
    },
    {
      "cell_type": "code",
      "source": [
        "С_h = (T_5 * P_calc) / t_int\n",
        "print(f'количество пассажиров, перевозимых за 5 минут: {С_h:.1f}')"
      ],
      "metadata": {
        "colab": {
          "base_uri": "https://localhost:8080/"
        },
        "id": "HrDKqf_Urc7_",
        "outputId": "96176287-d737-4ca8-a133-d44f441a46f2"
      },
      "execution_count": null,
      "outputs": [
        {
          "output_type": "stream",
          "name": "stdout",
          "text": [
            "количество пассажиров, перевозимых за 5 минут: 144.9\n"
          ]
        }
      ]
    },
    {
      "cell_type": "markdown",
      "source": [
        "Определим процент населения здания, перевозимого за 5 мин:"
      ],
      "metadata": {
        "id": "Zt1xxWaNsIin"
      }
    },
    {
      "cell_type": "code",
      "source": [
        "C_h_percent = С_h / U * 100\n",
        "print(f'процент населения здания, перевозимого за 5 мин: {C_h_percent:.1f}%')"
      ],
      "metadata": {
        "colab": {
          "base_uri": "https://localhost:8080/"
        },
        "id": "RmDCtC1xsM6X",
        "outputId": "2cb22bf6-8edd-4c68-9750-8efae9efe379"
      },
      "execution_count": null,
      "outputs": [
        {
          "output_type": "stream",
          "name": "stdout",
          "text": [
            "процент населения здания, перевозимого за 5 мин: 13.3%\n"
          ]
        }
      ]
    },
    {
      "cell_type": "markdown",
      "source": [
        "Вывод:\n",
        "Таким образом,обеспечивается необходимый расчетный критерий, приведенный в таблице 1, $\\geq 12\\% $"
      ],
      "metadata": {
        "id": "sKuxnIA6sxYY"
      }
    }
  ]
}