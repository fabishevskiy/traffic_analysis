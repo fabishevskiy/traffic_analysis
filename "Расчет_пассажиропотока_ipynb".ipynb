{
  "nbformat": 4,
  "nbformat_minor": 0,
  "metadata": {
    "colab": {
      "provenance": [],
      "toc_visible": true,
      "authorship_tag": "ABX9TyPOFfjtqxw2htQH49JGhuWR",
      "include_colab_link": true
    },
    "kernelspec": {
      "name": "python3",
      "display_name": "Python 3"
    },
    "language_info": {
      "name": "python"
    }
  },
  "cells": [
    {
      "cell_type": "markdown",
      "metadata": {
        "id": "view-in-github",
        "colab_type": "text"
      },
      "source": [
        "<a href=\"https://colab.research.google.com/github/fabishevskiy/traffic_analysis/blob/main/%22%D0%A0%D0%B0%D1%81%D1%87%D0%B5%D1%82_%D0%BF%D0%B0%D1%81%D1%81%D0%B0%D0%B6%D0%B8%D1%80%D0%BE%D0%BF%D0%BE%D1%82%D0%BE%D0%BA%D0%B0_ipynb%22.ipynb\" target=\"_parent\"><img src=\"https://colab.research.google.com/assets/colab-badge.svg\" alt=\"Open In Colab\"/></a>"
      ]
    },
    {
      "cell_type": "markdown",
      "source": [
        "# Описание проекта"
      ],
      "metadata": {
        "id": "xp8B9slmWfNt"
      }
    },
    {
      "cell_type": "markdown",
      "source": [
        "**Расчет пассажиропотока для подбора количества, параметров и размеров лифтов**"
      ],
      "metadata": {
        "id": "tp5qWZxI0qnJ"
      }
    },
    {
      "cell_type": "markdown",
      "source": [
        "Настоящий анализ основан на расчетном методе в соответствие с ГОСТ 34758-2021 ЛИФТЫ. Определение числа, параметров и размеров лифтов для зданий различного назначения\n"
      ],
      "metadata": {
        "id": "ZWMDiNthI6ED"
      }
    },
    {
      "cell_type": "markdown",
      "source": [
        "Критерии для расчетного метода анализа\n",
        "\n",
        "Расчетный метод анализа основан на условиях пикового пассажиропотока вверх (входящий пассажиропоток). При этом основной посадочный этаж находится внизу здания, все верхние этажи заселены равномерно (п.5.4.1, ГОСТ 34758-2021).\n",
        "\n",
        "Критериями для расчетного метода анализа являются:\n",
        "\n",
        "а) расчетный пассажиропоток;  \n",
        "б) нормативный интервал движения лифтов;  \n",
        "в) нормативное время движения лифта на всю высоту подъема.\n",
        "\n",
        "Рекомендуемые значения вышеуказанных критериев приведены в таблицах 1 и 4, ГОСТ 34758-2021.\n",
        "\n"
      ],
      "metadata": {
        "id": "3efYiLQxJ0iG"
      }
    },
    {
      "cell_type": "markdown",
      "source": [
        "# Подготовка к расчетам"
      ],
      "metadata": {
        "id": "anOy52c0Wqc4"
      }
    },
    {
      "cell_type": "code",
      "source": [
        "# импорт библиотек\n",
        "import math\n",
        "import numpy as np\n",
        "import pandas as pd\n",
        "import matplotlib.pyplot as plt\n",
        "\n",
        "# зададим константные значения\n",
        "T_5 = 5*60        # время для расчета 5 минутного интервала = 300 сек\n",
        "LIFT_ACCEL = 1.0  # ускорение/земедление лифта\n",
        "PASSENGER_WEIGHT = 75 # вес одного пассажира\n",
        "F_1 = 0.8         # коэффициент загрузки кабины\n",
        "\n"
      ],
      "metadata": {
        "id": "fXVMNY7HPm1c"
      },
      "execution_count": 76,
      "outputs": []
    },
    {
      "cell_type": "markdown",
      "source": [
        "## Исходные данные"
      ],
      "metadata": {
        "id": "JyH7C2LKKTxM"
      }
    },
    {
      "cell_type": "markdown",
      "source": [
        "Выведем информацию по зданию:\n",
        "1. Тип здания\n",
        "2. Нормативный интервал движения\n",
        "3. Расчетный пассажиропоток\n",
        "4. Общая заселенность здания"
      ],
      "metadata": {
        "id": "rtuCQ9AM07UZ"
      }
    },
    {
      "cell_type": "code",
      "source": [
        "# Зададим рекомендуемые критерии для зданий в зависимости от назначения согласно таблице 1, ГОСТ 34758-2021\n",
        "building_types = ['Офис', 'Гостиница', 'Жилое здание']\n",
        "\n",
        "# нормативный интервал движения лифтов / Required uppeak interval\n",
        "t_int_req = {\n",
        "    'Офис': 30,\n",
        "    'Гостиница': 40,\n",
        "    'Жилое здание': 60,\n",
        "}\n",
        "\n",
        "# Нормативный пассажиропоток / Required uppeak handling capacity\n",
        "C_h_req = {\n",
        "    'Офис': 12,\n",
        "    'Гостиница': 12,\n",
        "    'Жилое здание': 6\n",
        "}\n",
        "t_H_min = 20 # минимальное рекомендуемое время движения лифта на всю высоты подъема\n",
        "t_H_max = 30 # максимальное рекомендуемое время движения лифта на всю высоты подъема"
      ],
      "metadata": {
        "id": "gAcIZ2ePIpQ3"
      },
      "execution_count": 77,
      "outputs": []
    },
    {
      "cell_type": "markdown",
      "source": [
        "## Характеристики по зданию\n"
      ],
      "metadata": {
        "id": "lyTGZjPr91YJ"
      }
    },
    {
      "cell_type": "code",
      "source": [
        "building_type = building_types[0]\n",
        "\n",
        "# интервал движения лифтов и пассажиропоток для выбранного типа здания\n",
        "t_int = t_int_req[building_type] # требуемый интервал движения\n",
        "A_capacity = C_h_req[building_type] # пассажиропоток\n",
        "\n",
        "print(f'Для типа здания {building_type}: \\n- нормативный интервал: <= {t_int}, с.; \\n- расчетный пассажиропоток: >= {A_capacity}% населения здания за 5 мин')"
      ],
      "metadata": {
        "id": "4Z6KwdE4Iqnq",
        "colab": {
          "base_uri": "https://localhost:8080/"
        },
        "outputId": "1c8ea63b-6078-49c3-98a2-d0b4654492df"
      },
      "execution_count": 78,
      "outputs": [
        {
          "output_type": "stream",
          "name": "stdout",
          "text": [
            "Для типа здания Офис: \n",
            "- нормативный интервал: <= 30, с.; \n",
            "- расчетный пассажиропоток: >= 12% населения здания за 5 мин\n"
          ]
        }
      ]
    },
    {
      "cell_type": "code",
      "source": [
        "# исходные данных по исследуемому зданию\n",
        "U = 1092 # общая заселенность здания / Population per building rise\n",
        "D = 52 # высота подъема лифта / travel distance to highest severed floor\n",
        "d_f = 4.0 # расстояние между этажами, м; / average interfloor height\n",
        "N = 13 # количество обслуживаемых этажей выше основного посадочного / number of landings served above entrance floor\n",
        "\n",
        "\n",
        "print(f'Общая заселенность здания {U} человек, \\nВысота подъема лифта {D} метров \\nРасстояние между этажами {d_f} метров, \\nКоличество обслуживаемых этажей выше основной этажной площадки - {N} этажей')"
      ],
      "metadata": {
        "id": "PVWUomqzIr9I",
        "colab": {
          "base_uri": "https://localhost:8080/"
        },
        "outputId": "066a51c8-3d72-4bec-eeac-0d98e08cfb1b"
      },
      "execution_count": 79,
      "outputs": [
        {
          "output_type": "stream",
          "name": "stdout",
          "text": [
            "Общая заселенность здания 1092 человек, \n",
            "Высота подъема лифта 52 метров \n",
            "Расстояние между этажами 4.0 метров, \n",
            "Количество обслуживаемых этажей выше основной этажной площадки - 13 этажей\n"
          ]
        }
      ]
    },
    {
      "cell_type": "markdown",
      "source": [
        "# Расчеты"
      ],
      "metadata": {
        "id": "X1YtupTQvPZJ"
      }
    },
    {
      "cell_type": "markdown",
      "source": [
        "## Количество людей, которых необходимо перевезти за 5 мин."
      ],
      "metadata": {
        "id": "zm_iZTzhuyj9"
      }
    },
    {
      "cell_type": "code",
      "source": [
        "\n",
        "C_h = U * A_capacity/100 #провозная способность лифтов за 5 мин, чел.;\n",
        "print(f'При общей заселенности здания {U} чел., за 5 минут необходимо перевезти {U} x {A_capacity} = {C_h} человек')"
      ],
      "metadata": {
        "id": "5jnXCZyfIsHo",
        "colab": {
          "base_uri": "https://localhost:8080/"
        },
        "outputId": "f9b000d5-753d-4e03-8881-c6f2129b9c18"
      },
      "execution_count": 80,
      "outputs": [
        {
          "output_type": "stream",
          "name": "stdout",
          "text": [
            "При общей заселенности здания 1092 чел., за 5 минут необходимо перевезти 1092 x 12 = 131.04 человек\n"
          ]
        }
      ]
    },
    {
      "cell_type": "markdown",
      "source": [
        "## Количество отправлений лифтов с основного посадочного этажа  \n",
        "Разделим 5-минутный интервал (в секундах) на рекомендуемый интервал движения лифтов."
      ],
      "metadata": {
        "id": "7iF5GF3Ft9ip"
      }
    },
    {
      "cell_type": "code",
      "source": [
        "# расчет количества отправлений за 5 минут\n",
        "round_trips_quantity = math.ceil(T_5 / t_int)\n",
        "print(f'Для обеспечения требуемого интервала {t_int} с число отправлений должно быть не менее {round_trips_quantity}')"
      ],
      "metadata": {
        "id": "X9z9Nqfdtsy_",
        "colab": {
          "base_uri": "https://localhost:8080/"
        },
        "outputId": "a4e19986-bab4-48d8-bad5-d48390d790b6"
      },
      "execution_count": 81,
      "outputs": [
        {
          "output_type": "stream",
          "name": "stdout",
          "text": [
            "Для обеспечения требуемого интервала 30 с число отправлений должно быть не менее 10\n"
          ]
        }
      ]
    },
    {
      "cell_type": "markdown",
      "source": [
        "## Средняя загрузка кабины  \n",
        "Высчислим среднюю загрузку кабины, для чего разделим количество человек, перевозимых за 5 минут, на количество рейсов."
      ],
      "metadata": {
        "id": "farKT1K_V-yP"
      }
    },
    {
      "cell_type": "code",
      "source": [
        "P_calc = C_h / round_trips_quantity # Расчетная средняя загрузка кабины\n",
        "print(f'Средняя загрузка кабины лифта {P_calc:.2f} человек')"
      ],
      "metadata": {
        "colab": {
          "base_uri": "https://localhost:8080/"
        },
        "id": "JxR2CIUyV9r6",
        "outputId": "16665d84-74c3-4d31-d6d9-c9b5b108949f"
      },
      "execution_count": 82,
      "outputs": [
        {
          "output_type": "stream",
          "name": "stdout",
          "text": [
            "Средняя загрузка кабины лифта 13.10 человек\n"
          ]
        }
      ]
    },
    {
      "cell_type": "markdown",
      "source": [
        "## Скорость лифтов"
      ],
      "metadata": {
        "id": "XRjjgcqYSViE"
      }
    },
    {
      "cell_type": "code",
      "source": [
        "v_p_max = D / t_H_min\n",
        "v_p_min = D / t_H_max\n",
        "print(f'Скорость лифтов должна быть от {v_p_min:.1f}  м/с до {v_p_max:.1f} м/с')"
      ],
      "metadata": {
        "colab": {
          "base_uri": "https://localhost:8080/"
        },
        "id": "4b9P1CM3SeV9",
        "outputId": "6156641b-0db5-4583-cd49-93dc6b7c2c96"
      },
      "execution_count": 83,
      "outputs": [
        {
          "output_type": "stream",
          "name": "stdout",
          "text": [
            "Скорость лифтов должна быть от 1.7  м/с до 2.6 м/с\n"
          ]
        }
      ]
    },
    {
      "cell_type": "code",
      "source": [
        "v_n = 2.5 #м/с - номинальная скорость лифтов\n",
        "print(f'Примем номинальную скорость лифтов равной - {v_n} с')"
      ],
      "metadata": {
        "colab": {
          "base_uri": "https://localhost:8080/"
        },
        "id": "xE188k5ET19j",
        "outputId": "ce2aa37d-e66e-4e29-d701-c481f33d9631"
      },
      "execution_count": 84,
      "outputs": [
        {
          "output_type": "stream",
          "name": "stdout",
          "text": [
            "Примем номинальную скорость лифтов равной - 2.5 с\n"
          ]
        }
      ]
    },
    {
      "cell_type": "code",
      "source": [
        "t_D = D / v_n # - время подъема лифта на всю высоту\n",
        "print(f'Время подъема лифта на всю высоту - {t_D} с')"
      ],
      "metadata": {
        "colab": {
          "base_uri": "https://localhost:8080/"
        },
        "id": "tH_4WUA1U6X8",
        "outputId": "781efa94-5b93-4b6d-fa81-f46d116800ac"
      },
      "execution_count": 85,
      "outputs": [
        {
          "output_type": "stream",
          "name": "stdout",
          "text": [
            "Время подъема лифта на всю высоту - 20.8 с\n"
          ]
        }
      ]
    },
    {
      "cell_type": "markdown",
      "source": [
        "## Время, затрачиваемое на остановку  \n",
        "Рассчитаем время, затрачиваемое на остановку по формуле (9) ГОСТ 34758-2021 / формула (14) ISO 8100-32-2020:  \n",
        "$t_{s} = t_{c} + t_{sd} + t_{f}(1) - t_{pre} + t_{0} - t_{v}$"
      ],
      "metadata": {
        "id": "9KebzwpXWz7o"
      }
    },
    {
      "cell_type": "code",
      "source": [
        "t_c = 2.4 # время закрывания двери, с;  / closing time\n",
        "t_o = 2.0 # время открывания двери, с; / opening time\n",
        "t_sd = 0.6 # время задержки начала движения, с; / start delay time\n",
        "t_f1 = 5.1 # время движения лифта между соседними этажами с учетом стадии разгона и торможения; / flight time\n",
        "t_pre = 0 # время предварительного открывания двери, с; / pre-opening time\n",
        "t_cd = 2.0 # время задержки закрывания двери, с; / closing delay time\n",
        "t_v = d_f / v_n # время движения лифта между соседними этажами на номинальной скорости, с; / travel berween two floor at rated speed (s)\n",
        "\n",
        "t_p = 0.9 # время на вход пассажира в лифт - из табл.3 ГОСТ 34758-2021\n",
        "\n",
        "t_s = t_c + t_sd + t_f1 -t_pre + t_o + t_cd - t_v # время затрачиваемое на остановку\n",
        "print(f'Время, затрачиваемое на остановку - {t_s} с')"
      ],
      "metadata": {
        "colab": {
          "base_uri": "https://localhost:8080/"
        },
        "id": "W2frPQSBYA1o",
        "outputId": "96e843f8-0a01-4c4c-fd04-3164d6f9ea36"
      },
      "execution_count": 86,
      "outputs": [
        {
          "output_type": "stream",
          "name": "stdout",
          "text": [
            "Время, затрачиваемое на остановку - 10.5 с\n"
          ]
        }
      ]
    },
    {
      "cell_type": "markdown",
      "source": [
        "## Средний этаж реверса  \n",
        "Определим средний номер этажа реверса при круговом рейсе :  \n",
        "$ H = N - \\sum_{i=1}^{N-1}{(\\frac{i}{N})^{P_{calc}}} $"
      ],
      "metadata": {
        "id": "HULirNVtiKuy"
      }
    },
    {
      "cell_type": "code",
      "source": [
        "# определим формулу для расчета этажа реверса\n",
        "def av_highest_reversal_floor(N, P_calc):\n",
        "    sum = 0\n",
        "    for i in range(1, N):\n",
        "        sum += (i/N)**P_calc\n",
        "    return N - sum # Номер этажа реверса при круговом рейсе"
      ],
      "metadata": {
        "id": "2UJrRB86vJ__"
      },
      "execution_count": 87,
      "outputs": []
    },
    {
      "cell_type": "code",
      "source": [
        "# определим этажа реверса\n",
        "h_rev = av_highest_reversal_floor(N, P_calc)\n",
        "print(f'Средний номер этажа реверса - {h_rev:.2f} ')"
      ],
      "metadata": {
        "colab": {
          "base_uri": "https://localhost:8080/"
        },
        "id": "p1hlpXwZlLwW",
        "outputId": "d7ef7251-b24d-4a42-8c7c-9f0042092e82"
      },
      "execution_count": 88,
      "outputs": [
        {
          "output_type": "stream",
          "name": "stdout",
          "text": [
            "Средний номер этажа реверса - 12.50 \n"
          ]
        }
      ]
    },
    {
      "cell_type": "markdown",
      "source": [
        "## Вероятное число остановок  \n",
        "Определим вероятное число остановок при равномерной заселенности этажей :  \n",
        "$ S = N[1-(1-\\frac{1}{N})^{P_{calc}}] $"
      ],
      "metadata": {
        "id": "bRz94jzwjnAG"
      }
    },
    {
      "cell_type": "code",
      "source": [
        "S = N * (1 - (1 - 1 / N)**P_calc)\n",
        "print(f'Вероятное число остановок - {S:.2f} ')"
      ],
      "metadata": {
        "id": "esLHGiYnttH0",
        "colab": {
          "base_uri": "https://localhost:8080/"
        },
        "outputId": "66ddc1b6-afbd-47b0-b5bc-5dd1d6b9ab83"
      },
      "execution_count": 89,
      "outputs": [
        {
          "output_type": "stream",
          "name": "stdout",
          "text": [
            "Вероятное число остановок - 8.45 \n"
          ]
        }
      ]
    },
    {
      "cell_type": "markdown",
      "source": [
        "Время кругового рейса рассчитывают по формуле (7):  \n",
        "$ t_{rt} = 2 \\times H \\times t_{v} + (S+1) \\times t_{s} + 2 \\times P_{calc} \\times t_{p}$"
      ],
      "metadata": {
        "id": "7hYWoNUs0kwx"
      }
    },
    {
      "cell_type": "code",
      "source": [
        "t_rt = 2*h_rev*t_v + (S+1)*t_s + 2*P_calc*t_p\n",
        "print(f'Время кругового рейса - {t_rt:.2f} ')"
      ],
      "metadata": {
        "id": "L_iRz8x506f3",
        "colab": {
          "base_uri": "https://localhost:8080/"
        },
        "outputId": "eb0f9fbe-90af-45fc-ae9f-5507dc675146"
      },
      "execution_count": 90,
      "outputs": [
        {
          "output_type": "stream",
          "name": "stdout",
          "text": [
            "Время кругового рейса - 162.75 \n"
          ]
        }
      ]
    },
    {
      "cell_type": "markdown",
      "source": [
        "## Выбор количества лифтов"
      ],
      "metadata": {
        "id": "D8yTRQXBo9nV"
      }
    },
    {
      "cell_type": "markdown",
      "source": [
        "Для определения количества лифтов поделим время кругового рейса на требуемый интервал и округлим получившееся значение до целого вверх"
      ],
      "metadata": {
        "id": "hgk46G1NpDaO"
      }
    },
    {
      "cell_type": "code",
      "source": [
        "L = math.ceil(t_rt / t_int)\n",
        "print(f'Необходимое минимальное количество лифтов - {L} ')"
      ],
      "metadata": {
        "colab": {
          "base_uri": "https://localhost:8080/"
        },
        "id": "R_qmMZ_6pMxj",
        "outputId": "c681b064-8802-47dd-d9eb-34401e318c98"
      },
      "execution_count": 91,
      "outputs": [
        {
          "output_type": "stream",
          "name": "stdout",
          "text": [
            "Необходимое минимальное количество лифтов - 6 \n"
          ]
        }
      ]
    },
    {
      "cell_type": "markdown",
      "source": [
        "## Интервал движения лифтов  \n",
        "Определим интервал движения для данного количества лифтов по формуле:  \n",
        "$ t_{int} = t_{rt} / L $"
      ],
      "metadata": {
        "id": "bOyLkw3oqNHr"
      }
    },
    {
      "cell_type": "code",
      "source": [
        "t_int = t_rt / L\n",
        "print(f'Интервал движения лифтов - {t_int:.2f} с')"
      ],
      "metadata": {
        "colab": {
          "base_uri": "https://localhost:8080/"
        },
        "id": "eJGHMHCEqMCJ",
        "outputId": "fd707475-6723-4bd2-81b3-eb649b124729"
      },
      "execution_count": 92,
      "outputs": [
        {
          "output_type": "stream",
          "name": "stdout",
          "text": [
            "Интервал движения лифтов - 27.13 с\n"
          ]
        }
      ]
    },
    {
      "cell_type": "markdown",
      "source": [
        "## Количество пассажиров, перевозимых за 5 минут:"
      ],
      "metadata": {
        "id": "jOjvGNUarQMM"
      }
    },
    {
      "cell_type": "code",
      "source": [
        "С_h = (T_5 * P_calc) / t_int\n",
        "print(f'количество пассажиров, перевозимых за 5 минут: {С_h:.1f}')"
      ],
      "metadata": {
        "colab": {
          "base_uri": "https://localhost:8080/"
        },
        "id": "HrDKqf_Urc7_",
        "outputId": "5f24ac0f-7d91-47e3-fbf5-83e18676c808"
      },
      "execution_count": 93,
      "outputs": [
        {
          "output_type": "stream",
          "name": "stdout",
          "text": [
            "количество пассажиров, перевозимых за 5 минут: 144.9\n"
          ]
        }
      ]
    },
    {
      "cell_type": "markdown",
      "source": [
        "## Процент населения здания, перевозимого за 5 мин:"
      ],
      "metadata": {
        "id": "Zt1xxWaNsIin"
      }
    },
    {
      "cell_type": "code",
      "source": [
        "C_h_percent = С_h / U * 100\n",
        "print(f'процент населения здания, перевозимого за 5 мин: {C_h_percent:.1f}%')"
      ],
      "metadata": {
        "colab": {
          "base_uri": "https://localhost:8080/"
        },
        "id": "RmDCtC1xsM6X",
        "outputId": "0b1a409a-5b0e-4083-baf6-3e055da63b3b"
      },
      "execution_count": 94,
      "outputs": [
        {
          "output_type": "stream",
          "name": "stdout",
          "text": [
            "процент населения здания, перевозимого за 5 мин: 13.3%\n"
          ]
        }
      ]
    },
    {
      "cell_type": "markdown",
      "source": [
        "## Выбор грузоподъемности лифтов"
      ],
      "metadata": {
        "id": "sOlD76va3bNg"
      }
    },
    {
      "cell_type": "code",
      "source": [
        "# P_calc = C_h / round_trips_quantity # Расчетная средняя загрузка кабины\n",
        "print(f'Средняя загрузка кабины лифта {P_calc:.2f} человек')"
      ],
      "metadata": {
        "colab": {
          "base_uri": "https://localhost:8080/"
        },
        "id": "YuMC8HMU3hjs",
        "outputId": "4a312d73-b37b-4720-d21f-90748fa283fe"
      },
      "execution_count": 95,
      "outputs": [
        {
          "output_type": "stream",
          "name": "stdout",
          "text": [
            "Средняя загрузка кабины лифта 13.10 человек\n"
          ]
        }
      ]
    },
    {
      "cell_type": "code",
      "source": [
        "print(f'Вес одного пассажира {PASSENGER_WEIGHT:.2f} кг')"
      ],
      "metadata": {
        "colab": {
          "base_uri": "https://localhost:8080/"
        },
        "id": "kKkGIBSN3s5A",
        "outputId": "264a24d5-c59e-46db-9b2e-eb973d2ef4b3"
      },
      "execution_count": 96,
      "outputs": [
        {
          "output_type": "stream",
          "name": "stdout",
          "text": [
            "Вес одного пассажира 75.00 кг\n"
          ]
        }
      ]
    },
    {
      "cell_type": "code",
      "source": [
        "print(f'Коэффициент загрузки кабины {F_1:.2f}')"
      ],
      "metadata": {
        "colab": {
          "base_uri": "https://localhost:8080/"
        },
        "id": "8ZH4cr1G4HbZ",
        "outputId": "95c54fb5-c118-4493-98be-c3198937af9f"
      },
      "execution_count": 97,
      "outputs": [
        {
          "output_type": "stream",
          "name": "stdout",
          "text": [
            "Коэффициент загрузки кабины 0.80\n"
          ]
        }
      ]
    },
    {
      "cell_type": "code",
      "source": [
        "# Расчет минимальной грузоподъемности одного лифта\n",
        "min_load = P_calc * PASSENGER_WEIGHT / F_1\n",
        "print(f'Минимальная грузоподъемность кабины {min_load:.2f}')"
      ],
      "metadata": {
        "colab": {
          "base_uri": "https://localhost:8080/"
        },
        "id": "SGjOXFoC4qoQ",
        "outputId": "c8af04ca-a684-4f43-b241-753609cde0bf"
      },
      "execution_count": 98,
      "outputs": [
        {
          "output_type": "stream",
          "name": "stdout",
          "text": [
            "Минимальная грузоподъемность кабины 1228.50\n"
          ]
        }
      ]
    },
    {
      "cell_type": "markdown",
      "source": [
        "Грузоподъемность лифтов должна быть не менее минимальной."
      ],
      "metadata": {
        "id": "OrWvPUuY7dXG"
      }
    },
    {
      "cell_type": "code",
      "source": [
        "lift_capacity = 1250\n",
        "print(f'Примем грузоподъемность одного лифта {lift_capacity:.2f} кг')"
      ],
      "metadata": {
        "colab": {
          "base_uri": "https://localhost:8080/"
        },
        "id": "CIXtVztl7YOv",
        "outputId": "5bafef0f-85a4-467d-a84e-8a904f190128"
      },
      "execution_count": 99,
      "outputs": [
        {
          "output_type": "stream",
          "name": "stdout",
          "text": [
            "Примем грузоподъемность одного лифта 1250.00 кг\n"
          ]
        }
      ]
    },
    {
      "cell_type": "markdown",
      "source": [
        "## Вывод  \n",
        "\n",
        "Таким образом,обеспечивается необходимый расчетный критерий, приведенный в таблице 1, $\\geq 12\\% $"
      ],
      "metadata": {
        "id": "sKuxnIA6sxYY"
      }
    },
    {
      "cell_type": "markdown",
      "source": [
        "# Зависимость интервала движения лифтов от пассажиропотока для выбранных лифтов"
      ],
      "metadata": {
        "id": "PxbMLTeCvtlK"
      }
    },
    {
      "cell_type": "markdown",
      "source": [
        "## Зададим интервал пассажиропотока от 3% до 8%  \n",
        "В СП 267.1325800.2016, Приложение Д, таблица Д.1 приведены характеристики качества обслуживания лифта: Провозная способность лифтов и соответствующий интервал.\n"
      ],
      "metadata": {
        "id": "ga7sihdrysYl"
      }
    },
    {
      "cell_type": "markdown",
      "source": [
        "![image.png](data:image/png;base64,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)"
      ],
      "metadata": {
        "id": "0H-u_0cz0H8r"
      }
    },
    {
      "cell_type": "code",
      "source": [],
      "metadata": {
        "id": "uhTg4nDBuQvf"
      },
      "execution_count": 99,
      "outputs": []
    },
    {
      "cell_type": "code",
      "source": [
        "# зададим коэффициент загрузки кабины\n",
        "cabin_load_factor = list(np.arange(0.1, 1.01, 0.1))\n",
        "df = pd.DataFrame(cabin_load, columns=['cabin_load_factor'])\n",
        "\n",
        "# средняя загрузка кабины\n",
        "df['cabin_load'] = df['cabin_load_factor'] / PASSENGER_WEIGHT * lift_capacity\n",
        "\n",
        "# Вычислим интервал движения\n",
        "#Добавим информацию по интервалу движения для каждого из значений процента пассажиропотока.\n",
        "\n",
        "# Номер этажа реверса:\n",
        "df['reverce_floor'] = av_highest_reversal_floor(N, df['cabin_load'])\n",
        "\n",
        "# Вероятное число остановок\n",
        "df['probable_number_of_stops'] = N * (1 - (1 - 1 / N)**P_calc)\n",
        "\n",
        "# Время кругового рейса\n",
        "df['round_trip_time'] = 2*df['reverce_floor']*t_v + (df['probable_number_of_stops']+1)*t_s + \\\n",
        "    2*df['cabin_load']*t_p\n",
        "\n",
        "# Интервал\n",
        "df['interval'] = df['round_trip_time'] / L\n",
        "# Число пассажиров, перевозимых за 5 мин\n",
        "df['passenger_number'] = 300 * df['cabin_load'] / df['interval']\n",
        "\n",
        "# Процент населения здания, перевозимого за 5 мин:\n",
        "df['traffic'] = df['passenger_number'] / U *100\n",
        "\n",
        "print(df[df['cabin_load_factor'] == 0.8])\n",
        "#df.plot()\n",
        "\n"
      ],
      "metadata": {
        "id": "kcJoDGskY6C-",
        "colab": {
          "base_uri": "https://localhost:8080/"
        },
        "outputId": "49a3d56e-86b4-4fb0-ef48-4378c4992a64"
      },
      "execution_count": 100,
      "outputs": [
        {
          "output_type": "stream",
          "name": "stdout",
          "text": [
            "   cabin_load_factor  cabin_load  reverce_floor  probable_number_of_stops  \\\n",
            "7                0.8   13.333333      12.508715                   8.44571   \n",
            "\n",
            "   round_trip_time   interval  passenger_number    traffic  \n",
            "7       163.207841  27.201307        147.051758  13.466278  \n"
          ]
        }
      ]
    },
    {
      "cell_type": "markdown",
      "source": [
        "## График зависимости интервала от пассажиропотока"
      ],
      "metadata": {
        "id": "5FpzpjAq0sik"
      }
    },
    {
      "cell_type": "code",
      "source": [
        "# Define Data\n",
        "x = df['traffic']\n",
        "data_1 = df['interval']\n",
        "data_2 = df['cabin_load_factor']\n",
        "\n",
        "# Create Plot\n",
        "fig, ax1 = plt.subplots()\n",
        "\n",
        "ax1.set_xlabel('traffic')\n",
        "ax1.set_ylabel('interval', color = 'black')\n",
        "plot_1 = ax1.plot(x, data_1, color = 'black')\n",
        "ax1.tick_params(axis ='y', labelcolor = 'black')\n",
        "\n",
        "# Adding Twin Axes\n",
        "ax2 = ax1.twinx()\n",
        "\n",
        "ax2.set_ylabel('cabin_load_factor', color = 'green')\n",
        "plot_2 = ax2.plot(x, data_2, color = 'green')\n",
        "ax2.tick_params(axis ='y', labelcolor = 'green')\n",
        "\n",
        "# Show plot\n",
        "\n",
        "plt.show()"
      ],
      "metadata": {
        "colab": {
          "base_uri": "https://localhost:8080/",
          "height": 449
        },
        "id": "udz3vzpCe8L-",
        "outputId": "35c2726c-538b-4a54-d61d-eb68b7bc96f4"
      },
      "execution_count": 101,
      "outputs": [
        {
          "output_type": "display_data",
          "data": {
            "text/plain": [
              "<Figure size 640x480 with 2 Axes>"
            ],
            "image/png": "[encoded data removed]"
          },
          "metadata": {}
        }
      ]
    }
  ]
}