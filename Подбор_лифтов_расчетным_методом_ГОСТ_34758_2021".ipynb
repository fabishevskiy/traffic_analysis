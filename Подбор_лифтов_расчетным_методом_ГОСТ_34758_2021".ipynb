{
  "nbformat": 4,
  "nbformat_minor": 0,
  "metadata": {
    "colab": {
      "provenance": [],
      "include_colab_link": true
    },
    "kernelspec": {
      "name": "python3",
      "display_name": "Python 3"
    },
    "language_info": {
      "name": "python"
    }
  },
  "cells": [
    {
      "cell_type": "markdown",
      "metadata": {
        "id": "view-in-github",
        "colab_type": "text"
      },
      "source": [
        "<a href=\"https://colab.research.google.com/github/fabishevskiy/traffic_analysis/blob/main/%D0%9F%D0%BE%D0%B4%D0%B1%D0%BE%D1%80_%D0%BB%D0%B8%D1%84%D1%82%D0%BE%D0%B2_%D1%80%D0%B0%D1%81%D1%87%D0%B5%D1%82%D0%BD%D1%8B%D0%BC_%D0%BC%D0%B5%D1%82%D0%BE%D0%B4%D0%BE%D0%BC_%D0%93%D0%9E%D0%A1%D0%A2_34758_2021%22.ipynb\" target=\"_parent\"><img src=\"https://colab.research.google.com/assets/colab-badge.svg\" alt=\"Open In Colab\"/></a>"
      ]
    },
    {
      "cell_type": "markdown",
      "source": [
        "# Описание проекта"
      ],
      "metadata": {
        "id": "xp8B9slmWfNt"
      }
    },
    {
      "cell_type": "markdown",
      "source": [
        "Настоящий анализ трафика основан на расчетном методе в соответствие с *ГОСТ 34758-2021 ЛИФТЫ. Определение числа, параметров и размеров лифтов для зданий различного назначения*.  \n",
        "Данный метод основан на условиях пикового пассажиропотока вверх (входящий пассажиропоток). При этом основной посадочный этаж находится внизу здания, все верхние этажи заселены равномерно (п.5.4.1, ГОСТ 34758-2021).\n"
      ],
      "metadata": {
        "id": "ZWMDiNthI6ED"
      }
    },
    {
      "cell_type": "markdown",
      "source": [
        "Рекомендуемые критерии для расчетного метода анализа по ГОСТ 34758-2021:  \n",
        "Таблица 1\n",
        "\n",
        "\n",
        "\n",
        "Назначение здания  | Расчетный пассажиропоток, % |Нормативный интервал движения, с\n",
        "-------------------|-----------------------------|-----------------------------\n",
        "Офис               | ≥ 12                        | ≤30\n",
        "Гостиница          | ≥ 12                        | ≤40\n",
        "Жилое здание       | ≥6                          | ≤60\n"
      ],
      "metadata": {
        "id": "AeFtKayUFpN0"
      }
    },
    {
      "cell_type": "markdown",
      "source": [
        "Таблица 4 - Нормативное время движения лифта\n",
        "\n",
        "Назначение здания  | Нормативное время движения лифта, с\n",
        "-------------------|------------------------------------\n",
        "Офис               | 20-30\n",
        "Гостиница          | 25-35\n",
        "Жилое здание       | 25-45\n"
      ],
      "metadata": {
        "id": "PYJUXrEeJlmy"
      }
    },
    {
      "cell_type": "code",
      "source": [
        "# @title # Исходные данные по зданию\n",
        "\n",
        "# импорт библиотек\n",
        "\n",
        "from IPython.display import Markdown as md\n",
        "from IPython.display import Latex as lt\n",
        "import math\n",
        "import numpy as np\n",
        "import pandas as pd\n",
        "import matplotlib.pyplot as plt\n",
        "\n",
        "# зададим константные значения\n",
        "T_5 = 5*60             # время для расчета 5 минутного интервала = 300 сек\n",
        "a_n = 1.0            # ускорение/замедление лифта\n",
        "j_n = 1.0             # рывок\n",
        "PASSENGER_WEIGHT = 75  # вес одного пассажира\n",
        "F_1 = 0.8              # коэффициент загрузки кабины\n",
        "\n",
        "# список типов здания\n",
        "building_types = ['Офис', 'Гостиница', 'Жилое здание']\n",
        "\n",
        "# список нормальных скоростей лифта\n",
        "v_nom_list = [1.0, 1.6, 1.75, 2.0, 2.5, 3.0, 4.0, 5.0, 6.0, 7.0, 8.0, 100.0]\n",
        "\n",
        "# нормативный интервал движения лифтов для различных типов здания, t_и\n",
        "t_int_req = {\n",
        "    'Офис': 30,\n",
        "    'Гостиница': 40,\n",
        "    'Жилое здание': 60,\n",
        "}\n",
        "\n",
        "# Нормативный пассажиропоток для различных типов здания\n",
        "C_h_req = {\n",
        "    'Офис': 12,\n",
        "    'Гостиница': 12,\n",
        "    'Жилое здание': 6\n",
        "}\n",
        "\n",
        "# минимальное рекомендуемое время движения лифта на всю высоты подъема\n",
        "t_H_min_req = {\n",
        "    'Офис': 20,\n",
        "    'Гостиница': 25,\n",
        "    'Жилое здание': 25\n",
        "}\n",
        "\n",
        "# максимальное рекомендуемое время движения лифта на всю высоты подъема\n",
        "t_H_max_req ={\n",
        "    'Офис': 30,\n",
        "    'Гостиница': 35,\n",
        "    'Жилое здание': 45\n",
        "}\n",
        "\n",
        "# Выберем тип здания\n",
        "# 0 - Офис\n",
        "# 1 - Гостиница\n",
        "# 2 - Жилое здание\n",
        "building_type = building_types[0] # <------- ввести тип здания\n",
        "\n",
        "'''\n",
        "# Ввести исходные значения по зданию с клавиатуры\n",
        "building_type = building_types[int(input('Укажите тип здания (0 - офис, 1 - гостиница, 2 - Жилое здание): '))]    # Выберем тип здания\n",
        "U = int(input('Общая заселенность здания (человек): '))           # общая заселенность здания\n",
        "D = int(input('Высота подъема лифта (м): '))                      # высота подъема лифта\n",
        "d_f = int(input('Расстояние между этажами (м): '))                # расстояние между этажами, м;\n",
        "N = int(input('Количество обслуживаемых этажей выше основного посадочного: '))   # количество обслуживаемых этажей выше основного посадочного\n",
        "\n",
        "'''\n",
        "\n",
        "# общая заселенность здания\n",
        "\n",
        "A = 1362               # общая заселенность здания\n",
        "h_f = 4.05             # расстояние между этажами, м; h_э - добавить формулу расчета высоты подъема\n",
        "N = 9                # количество обслуживаемых этажей выше основного посадочного N_эт\n",
        "H_max = h_f * N       # высота подъема лифта\n",
        "\n",
        "# расчитаем интервал движения лифтов и пассажиропоток для выбранного типа здания\n",
        "t_int = t_int_req[building_type]       # требуемый интервал движения\n",
        "A_capacity = C_h_req[building_type]    # пассажиропоток\n",
        "t_H_min = t_H_min_req[building_type]   # мин время поддъема\n",
        "t_H_max = t_H_max_req[building_type]   # макс время поддъема\n",
        "\n",
        "# print(f'Характеристики по зданию: \\nОбщая заселенность здания A = {A} человек, \\nВысота подъема лифта D = {D} метров \\nРасстояние между этажами d = {d_f} метров, \\nКоличество обслуживаемых этажей выше основной этажной площадки N = {N} этажей\\n')\n",
        "display(md(f'Характеристики по зданию:'))\n",
        "display(md(f'$A$ = {A} человек - общая заселенность здания;'))\n",
        "display(md(f'$H_{{max}}$= {H_max:.2f} м - высота подъема лифта;'))\n",
        "display(md(f'$h_{{э}}$= {h_f} м - высота между этажами;'))\n",
        "display(md(f'$N_{{эт}}$= {N} количество обслуживаемых этажей (выше основной посадочной площадки).'))\n",
        "display(md(f'Тип здания - {building_type}.  \\n  \\nДля данного типа зданий предъявляются следующие критерии подбора лифтового оборудования (провозные характеристики): '))\n",
        "display(md(f'- провозная способность лифтов $\\%P_{{5}}$: не менее {A_capacity}% населения здания за 5 мин;'))\n",
        "display(md(f'- интервал движения лифтов $t_{{и}}$ при нормативном пассажиропотоке: не более {t_int} сек;'))\n",
        "display(md(f'- время подъема на всю высоту подъема $t_{{H}}$: от {t_H_min} до {t_H_max} сек.'))"
      ],
      "metadata": {
        "id": "gAcIZ2ePIpQ3",
        "colab": {
          "base_uri": "https://localhost:8080/",
          "height": 290
        },
        "outputId": "4f5a3e96-76e5-442f-bfc0-6e2ccc7be4a3",
        "cellView": "form"
      },
      "execution_count": null,
      "outputs": [
        {
          "output_type": "display_data",
          "data": {
            "text/plain": [
              "<IPython.core.display.Markdown object>"
            ],
            "text/markdown": "Характеристики по зданию:"
          },
          "metadata": {}
        },
        {
          "output_type": "display_data",
          "data": {
            "text/plain": [
              "<IPython.core.display.Markdown object>"
            ],
            "text/markdown": "$A$ = 1362 человек - общая заселенность здания;"
          },
          "metadata": {}
        },
        {
          "output_type": "display_data",
          "data": {
            "text/plain": [
              "<IPython.core.display.Markdown object>"
            ],
            "text/markdown": "$H_{max}$= 36.45 м - высота подъема лифта;"
          },
          "metadata": {}
        },
        {
          "output_type": "display_data",
          "data": {
            "text/plain": [
              "<IPython.core.display.Markdown object>"
            ],
            "text/markdown": "$h_{э}$= 4.05 м - высота между этажами;"
          },
          "metadata": {}
        },
        {
          "output_type": "display_data",
          "data": {
            "text/plain": [
              "<IPython.core.display.Markdown object>"
            ],
            "text/markdown": "$N_{эт}$= 9 количество обслуживаемых этажей (выше основной посадочной площадки)."
          },
          "metadata": {}
        },
        {
          "output_type": "display_data",
          "data": {
            "text/plain": [
              "<IPython.core.display.Markdown object>"
            ],
            "text/markdown": "Тип здания - Офис.  \n  \nДля данного типа зданий предъявляются следующие критерии подбора лифтового оборудования (провозные характеристики): "
          },
          "metadata": {}
        },
        {
          "output_type": "display_data",
          "data": {
            "text/plain": [
              "<IPython.core.display.Markdown object>"
            ],
            "text/markdown": "- провозная способность лифтов $\\%P_{5}$: не менее 12% населения здания за 5 мин;"
          },
          "metadata": {}
        },
        {
          "output_type": "display_data",
          "data": {
            "text/plain": [
              "<IPython.core.display.Markdown object>"
            ],
            "text/markdown": "- интервал движения лифтов $t_{и}$ при нормативном пассажиропотоке: не более 30 сек;"
          },
          "metadata": {}
        },
        {
          "output_type": "display_data",
          "data": {
            "text/plain": [
              "<IPython.core.display.Markdown object>"
            ],
            "text/markdown": "- время подъема на всю высоту подъема $t_{H}$: от 20 до 30 сек."
          },
          "metadata": {}
        }
      ]
    },
    {
      "cell_type": "code",
      "source": [
        "# @title #Расчеты\n",
        "\n",
        "# Количество людей, которых необходимо перевезти за 5 мин - необходимая провозная способность\n",
        "A_5 = A * A_capacity/100\n",
        "display(md(f'При общей заселенности здания {A} чел., за 5 минут необходимо перевезти:  \\n $A_{{5}} = A \\cdot \\%P_{{5}} / 100 = {A} \\cdot {{{A_capacity}}} / 100 = {A_5:.2f} $ чел. - расчетный пассажиропоток в течение 5 мин.'))\n",
        "\n",
        "# Количество отправлений лифтов с основного посадочного этажа за 5 минут\n",
        "n_rt = math.ceil(T_5 / t_int)\n",
        "display(md(f'Минимальное количество отправлений лифтов с основного посадочного этажа для обеспечения требуемого интервала {t_int} с:  \\n$n_{{отпр}} =5 \\cdot 60 / t_{{и}} = 300 /{t_int} = {n_rt}$.'))\n",
        "\n",
        "# Высчислим среднюю загрузку кабины, для чего разделим количество человек, перевозимых за 5 минут, на количество рейсов.\n",
        "P_k = A_5 / n_rt # Расчетная средняя загрузка кабины\n",
        "display(md(f' Средняя загрузка кабины лифта:  \\n $P_{{к}} = A_{{5}} / n_{{отпр}} = {A_5} / {n_rt} = {P_k:.2f}$ чел.'))\n",
        "\n",
        "# Скорость лифтов\n",
        "v_n_max = H_max / t_H_min\n",
        "v_n_min = H_max / t_H_max\n",
        "display(md(f'Скорость лифтов должна быть в следующих пределах:  \\n от $H_{{max}}/{t_H_max}={H_max:.2f}/{t_H_max}={v_n_min:.1f}$ м/с   \\n до $H_{{max}}/{t_H_min}={H_max:.2f}/{t_H_min}={v_n_max:.1f}$ м/с'))\n",
        "\n",
        "def v_nom_selection(v_min, v_nom_list):\n",
        "    for v in v_nom_list:\n",
        "        if v > v_min:\n",
        "            return v\n",
        "\n",
        "v_n = v_nom_selection(v_n_min, v_nom_list)\n",
        "#v_n = 2.5\n",
        "display(md(f'Примем номинальную скорость лифтов равной:  \\n$v_{{n}}={v_n}$ с'))\n",
        "\n",
        "# - время подъема лифта на всю высоту без учета ускорения, рывка\n",
        "t_H_nom = H_max / v_n\n",
        "# - время подъема лифта на всю высоту с учетом ускорения и рывка\n",
        "t_H_real = H_max / v_n + v_n/a_n + a_n/j_n\n",
        "display(md(f'Время подъема лифта на всю высоту:  \\n - на номинальной скорости без учета ускорения и рывка.'))\n",
        "\n",
        "display(md(rf'$t_{{Hn}}=H_{{max}} / v_{{n}}={H_max:.2f}/{v_n}={t_H_nom:.2f}$ с'))\n",
        "display(md(rf'- с учетом ускорения и рывка:'))\n",
        "display(lt(rf'$t_{{H}}=\\frac{{H_{{max}}}}{{v_{{n}}}}+\\frac{{v_{{n}}}}{{a_{{n}}}}+\\frac{{a_{{n}}}}{{j_{{n}}}}=\\frac{{{H_max:.2f}}}{{{v_n}}}+\\frac{{{v_n}}}{{{a_n}}} +\\frac{{{a_n}}}{{{j_n}}}={t_H_real:.2f}\\,с$'))\n",
        "\n",
        "# Время, затрачиваемое на остановку\n",
        "display(md(f'Рассчитаем время, затрачиваемое на остановку по формуле (9) ГОСТ 34758-2021:'))\n",
        "display(md(f'$t_{{ост}} = t_{{з}} + t_{{з.д}} + t_{{эт}} - t_{{пр}} + t_{{о}} - t_{{з.з}}- t_{{эт.н}}$'))\n",
        "\n",
        "# время движения лифта между соседними этажами с учетом стадии разгона и торможения;\n",
        "def t_f1_calc(h_floor, v_n, a_n, j_n): #v_n - speed, a_n - accelertion, j_n - jerk\n",
        "    # Расстояние, пройденное лифтом от начала движения до достижения номинальной скорости:\n",
        "    s_vm = v_n ** 2 / (2 * a_n) + (a_n * v_n)/(2 * j_n)\n",
        "    if s_vm > h_floor / 2:\n",
        "        v_m = - a_n ** 2 / (2 * j_n) + ((a_n * h_floor) + (a_n ** 2 / j_n) ** 2) ** (0.5)\n",
        "        return h_floor / v_m + a_n / j_n + v_m / a_n\n",
        "        return a_n / j_n + (4 * h_floor / a_n + (a_n / (2 * j_n)) ** 2) ** (0.5)\n",
        "    return h_floor / v_n + a_n / j_n + v_n / a_n\n",
        "\n",
        "\n",
        "t_sd = 0.6                             # время задержки начала движения, с; / start delay time\n",
        "t_f1 = t_f1_calc(h_f, v_n, a_n, j_n)   # время движения лифта между соседними этажами с учетом стадии разгона и торможения; / flight time\n",
        "t_pre = 0.5                            # время предварительного открывания двери, с; / pre-opening time\n",
        "t_cd = 2.0                             # время задержки закрывания двери, с; / closing delay time\n",
        "t_v = h_f / v_n                        # время движения лифта между соседними этажами на номинальной скорости, с; / travel berween two floor at rated speed (s)\n",
        "\n",
        "\n",
        "# время открывания / закрывания-открывания двери / входа-выхода пассажиров\n",
        "# ширина дверного проема: время входа-выхода, центральные-открывание, центральные-закрывание, телескопические-открывание, телескопические-закрывание\n",
        "door_list = {\n",
        "    800:  [1.2, 1.4, 1.8, 2.5, 2.9],\n",
        "    900:  [1.1, 1.6, 2.0, 2.6, 3.0],\n",
        "    1000: [1.0, 1.8, 2.2, 2.8, 3.3],\n",
        "    1200: [0.9, 2.2, 2.6, 3.4, 3.9]\n",
        "}\n",
        "door_tipes = ('центрального', 'телескопического')\n",
        "\n",
        "door_width = 900     # 800, 900, 1000, 1200\n",
        "door_type = 1        # 0-центральные, 1-телескопические\n",
        "\n",
        "t_c = door_list[door_width][2+2*door_type] # время закрывания двери, с;  / closing time\n",
        "t_o = door_list[door_width][1+2*door_type] # время открывания двери, с; / opening time\n",
        "t_p = door_list[door_width][0]             # время на вход пассажира в лифт, с # время на вход пассажира в лифт - из табл.3 ГОСТ 34758-2021\n",
        "\n",
        "display(md(f'Для дверей {door_tipes[door_type]} открывания шириной проема {door_width} мм:'))\n",
        "display(md(f'$t_{{з}}={t_c}$ с - время закрывания двери;'))\n",
        "display(md(f'$t_{{о}}={t_o}$ с - время открывания двери;'))\n",
        "display(md(f'$t_{{з.д}}={t_sd}$ с - время задержки начала движения;'))\n",
        "display(md(f'$t_{{эт}}={t_f1:.2f}$ с - время движения лифта между соседними этажами с учетом стадии разгона и торможения;'))\n",
        "display(md(f'$t_{{пр}}={t_pre}$ с - время предварительного открывания двери;'))\n",
        "display(md(f'$t_{{з.з}}={t_cd}$ с - время задержки закрывания двери;'))\n",
        "display(md(f'$t_{{эт.н}}={t_v:.2f}$ с - время движения между соседними этажами на номинальной скорости.'))\n",
        "t_s = t_c + t_sd + t_f1 -t_pre + t_o + t_cd - t_v # время затрачиваемое на остановку\n",
        "\n",
        "display(md(f'получаем:  \\n$t_{{ост}} = t_{{з}} + t_{{з.д}} + t_{{эт}} - t_{{пр}} + t_{{о}} - t_{{з.з}}- t_{{эт.н}}= {t_c} + {t_sd} + {t_f1:.2f} - {t_pre} + {t_o} - {t_v:.2f} = {t_s:.2f} с$'))\n",
        "\n",
        "# Функция для расчета этажа реверса\n",
        "def av_highest_reversal_floor(N, P_k):\n",
        "    sum = 0\n",
        "    sum_i = [] # запишем значения для вывода в формулу на экран\n",
        "    for i in range(1, N):\n",
        "        sum += (i/N)**P_k\n",
        "        sum_i.append(sum)\n",
        "    return N - sum #, sum_i # Номер этажа реверса при круговом рейсе\n",
        "\n",
        "# Функция формулы для расчета этажа реверса\n",
        "def formula_highest_reversal_floor(N, P_k):\n",
        "    sum = 0\n",
        "    sum_i = []\n",
        "    text_formulas = ''\n",
        "    text_result=''\n",
        "\n",
        "    for i in sum_i:\n",
        "        if i != 0:\n",
        "            text_formulas += ' + '\n",
        "            text_results  += ' + '\n",
        "        text_i += f'{i:.8f}'\n",
        "    return text_formulas, text_results\n",
        "\n",
        "# определим этажа реверса\n",
        "h_rev = av_highest_reversal_floor(N, P_k)\n",
        "\n",
        "print(f'Средний этаж реверса:')\n",
        "display(lt(rf'$ H = N_{{эт}} - \\sum_{{i=1}}^{{N_{{эт}}-1}}(\\frac{{i}}{{N_{{эт}}}})^{{P_{{к}}}} = {{{N}}} - \\sum_{{i=1}}^{{{{{N}}}-1}}(\\frac{{i}}{{{N}}})^{{{P_k:.2f}}} = {h_rev:.2f} $'))\n",
        "\n",
        "# Вероятное число остановок\n",
        "display(md(rf'Определим вероятное число остановок при равномерной заселенности этажей :'))\n",
        "S = N * (1 - (1 - 1 / N)**P_k)\n",
        "display(lt(rf'$ S = N_{{эт}}[1-(1-\\frac{{1}}{{N_{{эт}}}})^{{P_{{к}}}}]= {{{N}}}[1-(1-\\frac{{1}}{{{N}}})^{{{P_k:.2f}}}]={{{S:.2f}}}$'))\n",
        "\n",
        "print('\\n\\n\\n')"
      ],
      "metadata": {
        "id": "5jnXCZyfIsHo",
        "colab": {
          "base_uri": "https://localhost:8080/",
          "height": 886
        },
        "outputId": "d008b961-7ba2-449f-a611-0393d93e41ac"
      },
      "execution_count": null,
      "outputs": [
        {
          "output_type": "display_data",
          "data": {
            "text/plain": [
              "<IPython.core.display.Markdown object>"
            ],
            "text/markdown": "При общей заселенности здания 1362 чел., за 5 минут необходимо перевезти:  \n $A_{5} = A \\cdot \\%P_{5} / 100 = 1362 \\cdot {12} / 100 = 163.44 $ чел. - расчетный пассажиропоток в течение 5 мин."
          },
          "metadata": {}
        },
        {
          "output_type": "display_data",
          "data": {
            "text/plain": [
              "<IPython.core.display.Markdown object>"
            ],
            "text/markdown": "Минимальное количество отправлений лифтов с основного посадочного этажа для обеспечения требуемого интервала 30 с:  \n$n_{отпр} =5 \\cdot 60 / t_{и} = 300 /30 = 10$."
          },
          "metadata": {}
        },
        {
          "output_type": "display_data",
          "data": {
            "text/plain": [
              "<IPython.core.display.Markdown object>"
            ],
            "text/markdown": " Средняя загрузка кабины лифта:  \n $P_{к} = A_{5} / n_{отпр} = 163.44 / 10 = 16.34$ чел."
          },
          "metadata": {}
        },
        {
          "output_type": "display_data",
          "data": {
            "text/plain": [
              "<IPython.core.display.Markdown object>"
            ],
            "text/markdown": "Скорость лифтов должна быть в следующих пределах:  \n от $H_{max}/30=36.45/30=1.2$ м/с   \n до $H_{max}/20=36.45/20=1.8$ м/с"
          },
          "metadata": {}
        },
        {
          "output_type": "display_data",
          "data": {
            "text/plain": [
              "<IPython.core.display.Markdown object>"
            ],
            "text/markdown": "Примем номинальную скорость лифтов равной:  \n$v_{n}=1.6$ с"
          },
          "metadata": {}
        },
        {
          "output_type": "display_data",
          "data": {
            "text/plain": [
              "<IPython.core.display.Markdown object>"
            ],
            "text/markdown": "Время подъема лифта на всю высоту:  \n - на номинальной скорости без учета ускорения и рывка."
          },
          "metadata": {}
        },
        {
          "output_type": "display_data",
          "data": {
            "text/plain": [
              "<IPython.core.display.Markdown object>"
            ],
            "text/markdown": "$t_{Hn}=H_{max} / v_{n}=36.45/1.6=22.78$ с"
          },
          "metadata": {}
        },
        {
          "output_type": "display_data",
          "data": {
            "text/plain": [
              "<IPython.core.display.Markdown object>"
            ],
            "text/markdown": "- с учетом ускорения и рывка:"
          },
          "metadata": {}
        },
        {
          "output_type": "display_data",
          "data": {
            "text/plain": [
              "<IPython.core.display.Latex object>"
            ],
            "text/latex": "$t_{H}=\\frac{H_{max}}{v_{n}}+\\frac{v_{n}}{a_{n}}+\\frac{a_{n}}{j_{n}}=\\frac{36.45}{1.6}+\\frac{1.6}{1.0} +\\frac{1.0}{1.0}=25.38\\,с$"
          },
          "metadata": {}
        },
        {
          "output_type": "display_data",
          "data": {
            "text/plain": [
              "<IPython.core.display.Markdown object>"
            ],
            "text/markdown": "Рассчитаем время, затрачиваемое на остановку по формуле (9) ГОСТ 34758-2021:"
          },
          "metadata": {}
        },
        {
          "output_type": "display_data",
          "data": {
            "text/plain": [
              "<IPython.core.display.Markdown object>"
            ],
            "text/markdown": "$t_{ост} = t_{з} + t_{з.д} + t_{эт} - t_{пр} + t_{о} - t_{з.з}- t_{эт.н}$"
          },
          "metadata": {}
        },
        {
          "output_type": "display_data",
          "data": {
            "text/plain": [
              "<IPython.core.display.Markdown object>"
            ],
            "text/markdown": "Для дверей телескопического открывания шириной проема 900 мм:"
          },
          "metadata": {}
        },
        {
          "output_type": "display_data",
          "data": {
            "text/plain": [
              "<IPython.core.display.Markdown object>"
            ],
            "text/markdown": "$t_{з}=3.0$ с - время закрывания двери;"
          },
          "metadata": {}
        },
        {
          "output_type": "display_data",
          "data": {
            "text/plain": [
              "<IPython.core.display.Markdown object>"
            ],
            "text/markdown": "$t_{о}=2.6$ с - время открывания двери;"
          },
          "metadata": {}
        },
        {
          "output_type": "display_data",
          "data": {
            "text/plain": [
              "<IPython.core.display.Markdown object>"
            ],
            "text/markdown": "$t_{з.д}=0.6$ с - время задержки начала движения;"
          },
          "metadata": {}
        },
        {
          "output_type": "display_data",
          "data": {
            "text/plain": [
              "<IPython.core.display.Markdown object>"
            ],
            "text/markdown": "$t_{эт}=5.07$ с - время движения лифта между соседними этажами с учетом стадии разгона и торможения;"
          },
          "metadata": {}
        },
        {
          "output_type": "display_data",
          "data": {
            "text/plain": [
              "<IPython.core.display.Markdown object>"
            ],
            "text/markdown": "$t_{пр}=0.5$ с - время предварительного открывания двери;"
          },
          "metadata": {}
        },
        {
          "output_type": "display_data",
          "data": {
            "text/plain": [
              "<IPython.core.display.Markdown object>"
            ],
            "text/markdown": "$t_{з.з}=2.0$ с - время задержки закрывания двери;"
          },
          "metadata": {}
        },
        {
          "output_type": "display_data",
          "data": {
            "text/plain": [
              "<IPython.core.display.Markdown object>"
            ],
            "text/markdown": "$t_{эт.н}=2.53$ с - время движения между соседними этажами на номинальной скорости."
          },
          "metadata": {}
        },
        {
          "output_type": "display_data",
          "data": {
            "text/plain": [
              "<IPython.core.display.Markdown object>"
            ],
            "text/markdown": "получаем:  \n$t_{ост} = t_{з} + t_{з.д} + t_{эт} - t_{пр} + t_{о} - t_{з.з}- t_{эт.н}= 3.0 + 0.6 + 5.07 - 0.5 + 2.6 - 2.53 = 10.23 с$"
          },
          "metadata": {}
        },
        {
          "output_type": "stream",
          "name": "stdout",
          "text": [
            "Средний этаж реверса:\n"
          ]
        },
        {
          "output_type": "display_data",
          "data": {
            "text/plain": [
              "<IPython.core.display.Latex object>"
            ],
            "text/latex": "$ H = N_{эт} - \\sum_{i=1}^{N_{эт}-1}(\\frac{i}{N_{эт}})^{P_{к}} = {9} - \\sum_{i=1}^{{9}-1}(\\frac{i}{9})^{16.34} = 8.84 $"
          },
          "metadata": {}
        },
        {
          "output_type": "display_data",
          "data": {
            "text/plain": [
              "<IPython.core.display.Markdown object>"
            ],
            "text/markdown": "Определим вероятное число остановок при равномерной заселенности этажей :"
          },
          "metadata": {}
        },
        {
          "output_type": "display_data",
          "data": {
            "text/plain": [
              "<IPython.core.display.Latex object>"
            ],
            "text/latex": "$ S = N_{эт}[1-(1-\\frac{1}{N_{эт}})^{P_{к}}]= {9}[1-(1-\\frac{1}{9})^{16.34}]={7.69}$"
          },
          "metadata": {}
        },
        {
          "output_type": "stream",
          "name": "stdout",
          "text": [
            "\n",
            "\n",
            "\n",
            "\n"
          ]
        }
      ]
    },
    {
      "cell_type": "code",
      "source": [
        "# @title Расчеты (продолжение)\n",
        "\n",
        "\n",
        "# время кругового рейса\n",
        "t_rt = 2*h_rev*t_v + (S+1)*t_s + 2*P_k*t_p\n",
        "display(md(rf'Время кругового рейса:'))\n",
        "display(lt(rf't_{{rt}}=2\\cdot H_{{max}}\\cdot t_{{v}}+ (S+1)\\cdot t_{{s}}+2\\cdot P_{{к}}\\cdot t_{{p}}=2\\cdot {{{h_rev:.2f}}}\\cdot {{{t_v:.2f}}}+ ({{{S:.2f}}}+1)\\cdot {{{t_s:.2f}}}+2\\cdot {{{P_k:.2f}}}\\cdot {{{t_p:.2f}}} = {{{t_rt:.2f}}}\\, с'))\n",
        "\n",
        "\n",
        "#  количество лифтов\n",
        "N_l = math.ceil(t_rt / t_int)\n",
        "# N_l = 4\n",
        "display(md(rf'Минимальное требуемое количество лифтов определяется делением времени кругового рейса на требуемый интервал с округлением до целого вверх:'))\n",
        "display(lt(rf't_{{rt}}/t_{{и}}={{{t_rt:.2f}}}/{{{t_int}}}={{{t_rt/t_int:.2f}}}'))\n",
        "display(lt(rf'N_{{л}}={{{N_l}}}\\, лифта(ов)'))\n",
        "\n",
        "# Расчет минимальной грузоподъемности одного лифта\n",
        "Q_min = P_k * PASSENGER_WEIGHT / F_1\n",
        "display(md(rf'С учетом коэффициента загрузки кабины $F_{{1}} = {{{F_1}}}$, рассчитаем минимальную требуемую грузоподъемность лифтов:'))\n",
        "display(lt(rf'Q_{{мин}}=(P_{{к}}\\cdot 75 кг) / F_{{1}}=({{{P_k:.2f}}}\\cdot {{{PASSENGER_WEIGHT}}})/{{{F_1}}}={{{Q_min:.2f}}}'))\n",
        "Q_list=[400, 450, 630, 825, 1000, 1275, 1600, 2000, 5000] # Список номинальных грузоподъемностей\n",
        "Q_n = min([q for q in Q_list if q > Q_min])               # Расчет номинальной грузоподъемности лифтов\n",
        "display(md(f'Примем номинальную грузоподъемность лифтов:  \\n $Q_{{n}} = {{{Q_n}}}$ кг'))\n",
        "print()\n",
        "print()"
      ],
      "metadata": {
        "colab": {
          "base_uri": "https://localhost:8080/",
          "height": 286
        },
        "id": "k34xo4aC5DQI",
        "outputId": "66d4e758-f1eb-4ab4-a523-f86b82571048"
      },
      "execution_count": null,
      "outputs": [
        {
          "output_type": "display_data",
          "data": {
            "text/plain": [
              "<IPython.core.display.Markdown object>"
            ],
            "text/markdown": "Время кругового рейса:"
          },
          "metadata": {}
        },
        {
          "output_type": "display_data",
          "data": {
            "text/plain": [
              "<IPython.core.display.Latex object>"
            ],
            "text/latex": "t_{rt}=2\\cdot H_{max}\\cdot t_{v}+ (S+1)\\cdot t_{s}+2\\cdot P_{к}\\cdot t_{p}=2\\cdot {8.84}\\cdot {2.53}+ ({7.69}+1)\\cdot {10.23}+2\\cdot {16.34}\\cdot {1.10} = {169.59}\\, с"
          },
          "metadata": {}
        },
        {
          "output_type": "display_data",
          "data": {
            "text/plain": [
              "<IPython.core.display.Markdown object>"
            ],
            "text/markdown": "Минимальное требуемое количество лифтов определяется делением времени кругового рейса на требуемый интервал с округлением до целого вверх:"
          },
          "metadata": {}
        },
        {
          "output_type": "display_data",
          "data": {
            "text/plain": [
              "<IPython.core.display.Latex object>"
            ],
            "text/latex": "t_{rt}/t_{и}={169.59}/{30}={5.65}"
          },
          "metadata": {}
        },
        {
          "output_type": "display_data",
          "data": {
            "text/plain": [
              "<IPython.core.display.Latex object>"
            ],
            "text/latex": "N_{л}={6}\\, лифта(ов)"
          },
          "metadata": {}
        },
        {
          "output_type": "display_data",
          "data": {
            "text/plain": [
              "<IPython.core.display.Markdown object>"
            ],
            "text/markdown": "С учетом коэффициента загрузки кабины $F_{1} = {0.8}$, рассчитаем минимальную требуемую грузоподъемность лифтов:"
          },
          "metadata": {}
        },
        {
          "output_type": "display_data",
          "data": {
            "text/plain": [
              "<IPython.core.display.Latex object>"
            ],
            "text/latex": "Q_{мин}=(P_{к}\\cdot 75 кг) / F_{1}=({16.34}\\cdot {75})/{0.8}={1532.25}"
          },
          "metadata": {}
        },
        {
          "output_type": "display_data",
          "data": {
            "text/plain": [
              "<IPython.core.display.Markdown object>"
            ],
            "text/markdown": "Примем номинальную грузоподъемность лифтов:  \n $Q_{n} = {1600}$ кг"
          },
          "metadata": {}
        },
        {
          "output_type": "stream",
          "name": "stdout",
          "text": [
            "\n",
            "\n"
          ]
        }
      ]
    },
    {
      "cell_type": "code",
      "source": [
        "# @title Проверка провозных характеристик выбранных лифтов\n",
        "display(md(rf'Уточним провозные характеристики лифтовой группы из {N_l} лифтов номинальной скоростью {v_n} м/с и г/п {Q_n} кг, для средней загрузки $P_{{к}}={{{P_k:.2f}}}$ чел.:'))\n",
        "\n",
        "t_int_n = t_rt / N_l\n",
        "display(md(f'Интервал движения {N_l} лифтов:  \\n $t_{{и}}=t_{{rt}}/ N_{{л}} = {{{t_rt:.2f}}} / {{{N_l}}} = {{{t_int_n:.2f}}}$ с'))\n",
        "\n",
        "C_h = (T_5 * P_k) / t_int_n\n",
        "display(md(f'Число пассажиров, перевозимых за 5 мин (300 сек):  \\n $С_{{h}} = 300\\cdot P_{{к}} / t_{{и}}=300\\cdot {{{P_k:.2f}}} / {{{t_int_n:.2f}}} = {{{C_h:.2f}}} $ чел.'))\n",
        "\n",
        "C_h_p = C_h / A * 100\n",
        "display(md(f'Процент населения здания, перевозимого за 5 мин:  \\n $\\% C_{{h}} =С_{{h}}/A\\cdot 100\\% = {{{C_h:.2f}}}/{{{A}}}\\cdot 100\\% = {{{C_h_p:.2f}}}\\%$'))\n",
        "\n",
        "F_k = P_k * PASSENGER_WEIGHT / Q_n * 100\n",
        "display(md(f'При этом коэффициент загрузки кабин равен: \\n$ F_{{к}} = (P_{{к}}\\cdot 75) / Q_{{n}} = ({{P_k}}\\cdot 75) / {{Q_n}} = {{{F_k:.0f}}} \\%$'))"
      ],
      "metadata": {
        "colab": {
          "base_uri": "https://localhost:8080/",
          "height": 216
        },
        "cellView": "form",
        "id": "LRJwTtAgwoXA",
        "outputId": "db0e8450-96b2-4b92-9728-5713ec7402a6"
      },
      "execution_count": null,
      "outputs": [
        {
          "output_type": "display_data",
          "data": {
            "text/plain": [
              "<IPython.core.display.Markdown object>"
            ],
            "text/markdown": "Уточним провозные характеристики лифтовой группы из 6 лифтов номинальной скоростью 1.6 м/с и г/п 1600 кг, для средней загрузки $P_{к}={16.34}$ чел.:"
          },
          "metadata": {}
        },
        {
          "output_type": "display_data",
          "data": {
            "text/plain": [
              "<IPython.core.display.Markdown object>"
            ],
            "text/markdown": "Интервал движения 6 лифтов:  \n $t_{и}=t_{rt}/ N_{л} = {157.04} / {6} = {26.17}$ с"
          },
          "metadata": {}
        },
        {
          "output_type": "display_data",
          "data": {
            "text/plain": [
              "<IPython.core.display.Markdown object>"
            ],
            "text/markdown": "Число пассажиров, перевозимых за 5 мин (300 сек):  \n $С_{h} = 300\\cdot P_{к} / t_{и}=300\\cdot {16.34} / {26.17} = {187.34} $ чел."
          },
          "metadata": {}
        },
        {
          "output_type": "display_data",
          "data": {
            "text/plain": [
              "<IPython.core.display.Markdown object>"
            ],
            "text/markdown": "Процент населения здания, перевозимого за 5 мин:  \n $\\% C_{h} =С_{h}/A\\cdot 100\\% = {187.34}/{1362}\\cdot 100\\% = {13.75}\\%$"
          },
          "metadata": {}
        },
        {
          "output_type": "display_data",
          "data": {
            "text/plain": [
              "<IPython.core.display.Markdown object>"
            ],
            "text/markdown": "При этом коэффициент загрузки кабин равен: \n$ F_{к} = (P_{к}\\cdot 75) / Q_{n} = ({P_k}\\cdot 75) / {Q_n} = {77} \\%$"
          },
          "metadata": {}
        }
      ]
    },
    {
      "cell_type": "code",
      "source": [
        "# @title #Вывод\n",
        "display(md(f'Лифтовая группа из  {N_l} лифтов  номинальной скоростью {v_n} м/с и г/п {Q_n} кг обеспечивает соблюдение предъявляемых критериев провозной способности.'))"
      ],
      "metadata": {
        "colab": {
          "base_uri": "https://localhost:8080/",
          "height": 46
        },
        "cellView": "form",
        "id": "Go7pqtTL6JYg",
        "outputId": "bbc3d54b-cc33-42a2-96c8-a0d49828eaf9"
      },
      "execution_count": null,
      "outputs": [
        {
          "output_type": "display_data",
          "data": {
            "text/plain": [
              "<IPython.core.display.Markdown object>"
            ],
            "text/markdown": "Лифтовая группа из  6 лифтов  номинальной скоростью 1.6 м/с и г/п 1600 кг обеспечивает соблюдение предъявляемых критериев провозной способности."
          },
          "metadata": {}
        }
      ]
    }
  ]
}